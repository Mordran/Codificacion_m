{
 "cells": [
  {
   "cell_type": "code",
   "execution_count": 66,
   "metadata": {},
   "outputs": [],
   "source": [
    "def cod_sencilla():\n",
    "    alfabeto = {'A':4,'B':13,'C':26,'D':12,'E':3,'F':17,'G':6,'H':14,'I':5,'J':25,'K':30,'L':7,'M':11,'N':20,'O':10,'P':19,'Q':24,'R':18,'S':15,'T':9,'U':0,'V':16,'W':21,'X':2,'Y':8,'Z':22,'Ñ':1}\n",
    "    print(\"inserta una palabra o frase de 9 letras:\")\n",
    "    palabra = input()\n",
    "    palabra = palabra.upper().replace(\" \",\"\")\n",
    "    B0 = []\n",
    "    for x in palabra:\n",
    "        B0.append(alfabeto[x])\n",
    "    print(f\"Tu mensaje codificado es:\", *B0)\n",
    "    return B0\n",
    "    "
   ]
  },
  {
   "cell_type": "code",
   "execution_count": 67,
   "metadata": {},
   "outputs": [
    {
     "name": "stdout",
     "output_type": "stream",
     "text": [
      "inserta una palabra o frase de 9 letras:\n",
      "tu ex es fea\n",
      "Tu mensaje codificado es: 9 0 3 2 3 15 17 3 4\n"
     ]
    }
   ],
   "source": [
    "B_s =cod_sencilla()"
   ]
  },
  {
   "cell_type": "code",
   "execution_count": 68,
   "metadata": {},
   "outputs": [],
   "source": [
    "import numpy as np \n",
    "def creacion_B(simple):\n",
    "    B = np.array([[B_s[0],B_s[3],B_s[6]],[B_s[1],B_s[4],B_s[7]],[B_s[2],B_s[5],B_s[8]]])\n",
    "    print('La matriz cuadrada de tu codificacion sencilla es:')\n",
    "    print(B)\n",
    "    return B"
   ]
  },
  {
   "cell_type": "code",
   "execution_count": 69,
   "metadata": {},
   "outputs": [
    {
     "name": "stdout",
     "output_type": "stream",
     "text": [
      "La matriz cuadrada de tu codificacion sencilla es:\n",
      "[[ 9  2 17]\n",
      " [ 0  3  3]\n",
      " [ 3 15  4]]\n"
     ]
    }
   ],
   "source": [
    "B = creacion_B(B_s)"
   ]
  },
  {
   "cell_type": "code",
   "execution_count": 70,
   "metadata": {},
   "outputs": [],
   "source": [
    "def codificador(B):\n",
    "    A = np.array([[1,2,1],[2,5,3],[2,3,2]])\n",
    "    cod = np.dot(A,B)\n",
    "    print(\"La codificacion de tu matriz ha sido reforzada al ser multiplicada por:\")\n",
    "    print(A)\n",
    "    print(\"Tu matriz codificada resultante de AB es:\")\n",
    "    print(cod)\n",
    "    return cod"
   ]
  },
  {
   "cell_type": "code",
   "execution_count": 71,
   "metadata": {},
   "outputs": [
    {
     "name": "stdout",
     "output_type": "stream",
     "text": [
      "La codificacion de tu matriz ha sido reforzada al ser multiplicada por:\n",
      "[[1 2 1]\n",
      " [2 5 3]\n",
      " [2 3 2]]\n",
      "Tu matriz codificada resultante de AB es:\n",
      "[[12 23 27]\n",
      " [27 64 61]\n",
      " [24 43 51]]\n"
     ]
    }
   ],
   "source": [
    "Bcod = codificador(B)"
   ]
  },
  {
   "cell_type": "code",
   "execution_count": 77,
   "metadata": {},
   "outputs": [],
   "source": [
    "def decodificador(codificado):\n",
    "    A_1 = np.array([[1,-1,1],[2,0,-1],[-4,1,1]])\n",
    "    dec = np.dot(A_1,codificado)\n",
    "    print(\"Para decodificar tu matriz se multiplicara por la inversa de A:\")\n",
    "    print(A_1)\n",
    "    print(\"Tu matriz resultante B1 que debe ser igual que B:\")\n",
    "    print(dec)\n",
    "    return dec\n",
    "    "
   ]
  },
  {
   "cell_type": "code",
   "execution_count": 78,
   "metadata": {},
   "outputs": [
    {
     "name": "stdout",
     "output_type": "stream",
     "text": [
      "Para decodificar tu matriz se multiplicara por la inversa de A:\n",
      "[[ 1 -1  1]\n",
      " [ 2  0 -1]\n",
      " [-4  1  1]]\n",
      "Tu matriz resultante B1 que debe ser igual que B:\n",
      "[[ 9  2 17]\n",
      " [ 0  3  3]\n",
      " [ 3 15  4]]\n"
     ]
    }
   ],
   "source": [
    "B1 = decodificador(Bcod)"
   ]
  },
  {
   "cell_type": "code",
   "execution_count": 86,
   "metadata": {},
   "outputs": [],
   "source": [
    "def regresador(decodificado):\n",
    "    n_alfabeto = {4:'A',13:'B',26:'C',12:'D',3:'E',17:'F',6:'G',14:'H',5:'I',25:'J',30:'K',7:'L',11:'M',20:'N',10:'O',19:'P',24:'Q',18:'R',15:'S',9:'T',0:'U',16:'V',21:'W',2:'X',8:'Y',22:'Z',1:'Ñ'}\n",
    "    final = []\n",
    "    for x in range(3):\n",
    "        for a in decodificado[:,x]:\n",
    "            final.append(n_alfabeto[a])\n",
    "    print(f\"Tu mensaje decodificado y original sin espacios y en mayusculas es:\", *final)"
   ]
  },
  {
   "cell_type": "code",
   "execution_count": 87,
   "metadata": {},
   "outputs": [
    {
     "name": "stdout",
     "output_type": "stream",
     "text": [
      "Tu mensaje decodificado y original sin espacios y en mayusculas es: T U E X E S F E A\n"
     ]
    }
   ],
   "source": [
    "regresador(B1)"
   ]
  },
  {
   "cell_type": "code",
   "execution_count": null,
   "metadata": {},
   "outputs": [],
   "source": []
  }
 ],
 "metadata": {
  "kernelspec": {
   "display_name": "Python 3",
   "language": "python",
   "name": "python3"
  },
  "language_info": {
   "codemirror_mode": {
    "name": "ipython",
    "version": 3
   },
   "file_extension": ".py",
   "mimetype": "text/x-python",
   "name": "python",
   "nbconvert_exporter": "python",
   "pygments_lexer": "ipython3",
   "version": "3.8.3"
  }
 },
 "nbformat": 4,
 "nbformat_minor": 4
}
